{
 "cells": [
  {
   "cell_type": "code",
   "execution_count": null,
   "metadata": {},
   "outputs": [],
   "source": [
    "from pyspark.sql import SparkSession\n",
    "from pyspark.ml.linalg import Vectors\n",
    "from pyspark.sql import SQLContext\n",
    "from pyspark.sql.functions import col, avg, lit, udf, count, sum\n",
    "import matplotlib\n",
    "import matplotlib.pyplot as plt\n",
    "import matplotlib.patches as mpatches\n",
    "import pandas\n",
    "import numpy as np\n",
    "import json\n",
    "import requests\n",
    "import os\n",
    "\n",
    "from data_utils import get_date_range, get_data, clear_data\n",
    "from datetime import datetime"
   ]
  },
  {
   "cell_type": "code",
   "execution_count": null,
   "metadata": {},
   "outputs": [],
   "source": [
    "spark = SparkSession.builder.getOrCreate()"
   ]
  },
  {
   "cell_type": "code",
   "execution_count": null,
   "metadata": {},
   "outputs": [],
   "source": [
    "def scrape_language_info_with_comments(dates):\n",
    "    gh_df = get_data(dates, spark)\n",
    "    gh_df.createOrReplaceTempView(\"events\")\n",
    "    gh_df = spark.sql(\"SELECT repo.name as Repo, \" + \n",
    "                      \"replace(payload.comment.body, ',', '')  as Comment, \" + \n",
    "                      \"payload.pull_request.head.repo.language as Language, \" +\n",
    "                      \"payload.pull_request.head.repo.forks_count as Forks_Count, \" +\n",
    "                      \"payload.pull_request.head.repo.stargazers_count as Stargazers_count, \" +\n",
    "                      \"payload.pull_request.head.repo.open_issues_count as Open_issues_count \" +\n",
    "                      \"FROM events \" + \n",
    "                      \"WHERE type = 'PullRequestReviewCommentEvent' \" + \n",
    "                      \"AND payload.comment.body IS NOT NULL AND payload.pull_request.head.repo.language IS NOT NULL \"+\n",
    "                      \"AND CHAR_LENGTH(payload.comment.body) > 0\"\n",
    "                     )\n",
    "    \n",
    "    \n",
    "    with open('comments.csv', 'a+') as file:\n",
    "        for row in gh_df.collect():\n",
    "            d = row.asDict()\n",
    "            s = \"%s,%s,%s,%d,%d,%d\\n\" % (d[\"Repo\"], d[\"Language\"], d[\"Comment\"], d[\"Forks_Count\"], d[\"Stargazers_count\"], d[\"Open_issues_count\"])\n",
    "            file.write(s)\n",
    "\n",
    "    return gh_df"
   ]
  },
  {
   "cell_type": "code",
   "execution_count": null,
   "metadata": {},
   "outputs": [],
   "source": [
    "for i in range(1, 31):\n",
    "    for j in range(0, 24, 2):\n",
    "        try:\n",
    "            dates = get_date_range(datetime(2020, 3, i, j), datetime(2020, 3, i, j+1))\n",
    "            df = scrape_language_info_with_comments(dates)\n",
    "            clear_data()\n",
    "        except:\n",
    "            print('Error')\n",
    "            continue"
   ]
  }
 ],
 "metadata": {
  "kernelspec": {
   "display_name": "Python 3",
   "language": "python",
   "name": "python3"
  },
  "language_info": {
   "codemirror_mode": {
    "name": "ipython",
    "version": 3
   },
   "file_extension": ".py",
   "mimetype": "text/x-python",
   "name": "python",
   "nbconvert_exporter": "python",
   "pygments_lexer": "ipython3",
   "version": "3.6.7"
  },
  "toc": {
   "base_numbering": 1,
   "nav_menu": {},
   "number_sections": true,
   "sideBar": true,
   "skip_h1_title": false,
   "title_cell": "Table of Contents",
   "title_sidebar": "Contents",
   "toc_cell": false,
   "toc_position": {},
   "toc_section_display": true,
   "toc_window_display": false
  }
 },
 "nbformat": 4,
 "nbformat_minor": 2
}
