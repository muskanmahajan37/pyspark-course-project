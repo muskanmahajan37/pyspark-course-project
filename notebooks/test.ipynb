{
 "cells": [
  {
   "cell_type": "code",
   "execution_count": 12,
   "metadata": {
    "ExecuteTime": {
     "end_time": "2021-04-16T09:09:28.586980Z",
     "start_time": "2021-04-16T09:09:28.584184Z"
    }
   },
   "outputs": [],
   "source": [
    "from pyspark.sql import SparkSession\n",
    "from pyspark.ml.linalg import Vectors\n",
    "import numpy as np\n",
    "import json\n",
    "import requests"
   ]
  },
  {
   "cell_type": "code",
   "execution_count": null,
   "metadata": {
    "ExecuteTime": {
     "end_time": "2021-04-14T09:07:36.157476Z",
     "start_time": "2021-04-14T09:07:34.400Z"
    }
   },
   "outputs": [],
   "source": [
    "# Create a spark session\n",
    "spark = SparkSession.builder.getOrCreate()\n",
    "ctx = spark.sparkContext"
   ]
  },
  {
   "cell_type": "code",
   "execution_count": null,
   "metadata": {
    "ExecuteTime": {
     "end_time": "2021-04-14T09:07:36.158385Z",
     "start_time": "2021-04-14T09:07:34.401Z"
    }
   },
   "outputs": [],
   "source": [
    "# Use the cluster \n",
    "data = [1, 2, 3, 4, 5]\n",
    "rdd = ctx.parallelize(data)\n",
    "rdd.reduce(lambda x, y: x + y)"
   ]
  },
  {
   "cell_type": "code",
   "execution_count": null,
   "metadata": {
    "ExecuteTime": {
     "end_time": "2021-04-14T09:07:36.159525Z",
     "start_time": "2021-04-14T09:07:34.404Z"
    }
   },
   "outputs": [],
   "source": [
    "# Create a data frame\n",
    "data = np.random.randn(8, 1000)\n",
    "data = map(lambda x: ('helloworld', Vectors.dense(x)), data)\n",
    "frame = spark.createDataFrame(data, schema=[\"text\", \"data\"])\n",
    "print(frame)"
   ]
  }
 ],
 "metadata": {
  "kernelspec": {
   "display_name": "Python 3",
   "language": "python",
   "name": "python3"
  },
  "language_info": {
   "codemirror_mode": {
    "name": "ipython",
    "version": 3
   },
   "file_extension": ".py",
   "mimetype": "text/x-python",
   "name": "python",
   "nbconvert_exporter": "python",
   "pygments_lexer": "ipython3",
   "version": "3.6.7"
  },
  "toc": {
   "base_numbering": 1,
   "nav_menu": {},
   "number_sections": true,
   "sideBar": true,
   "skip_h1_title": false,
   "title_cell": "Table of Contents",
   "title_sidebar": "Contents",
   "toc_cell": false,
   "toc_position": {},
   "toc_section_display": true,
   "toc_window_display": false
  }
 },
 "nbformat": 4,
 "nbformat_minor": 2
}
