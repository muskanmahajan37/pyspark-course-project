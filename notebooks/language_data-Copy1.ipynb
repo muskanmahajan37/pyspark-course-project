{
 "cells": [
  {
   "cell_type": "code",
   "execution_count": 1,
   "metadata": {
    "ExecuteTime": {
     "end_time": "2021-05-06T00:12:08.593548Z",
     "start_time": "2021-05-06T00:12:06.386459Z"
    }
   },
   "outputs": [],
   "source": [
    "from pyspark.sql import SparkSession\n",
    "from pyspark.ml.linalg import Vectors\n",
    "from pyspark.sql import SQLContext\n",
    "from pyspark.sql.functions import col, avg, lit, udf, count, sum\n",
    "import matplotlib\n",
    "import matplotlib.pyplot as plt\n",
    "import matplotlib.patches as mpatches\n",
    "import pandas\n",
    "import numpy as np\n",
    "import json\n",
    "import requests\n",
    "import os\n",
    "\n",
    "from data_utils import get_date_range, get_data, clear_data\n",
    "from datetime import datetime"
   ]
  },
  {
   "cell_type": "code",
   "execution_count": 2,
   "metadata": {
    "ExecuteTime": {
     "end_time": "2021-05-06T00:12:14.034337Z",
     "start_time": "2021-05-06T00:12:08.595789Z"
    }
   },
   "outputs": [],
   "source": [
    "spark = SparkSession.builder.getOrCreate()\n",
    "sqlContext = SQLContext(spark.sparkContext)"
   ]
  },
  {
   "cell_type": "code",
   "execution_count": 3,
   "metadata": {
    "ExecuteTime": {
     "end_time": "2021-05-06T00:12:18.669281Z",
     "start_time": "2021-05-06T00:12:14.039152Z"
    }
   },
   "outputs": [
    {
     "name": "stdout",
     "output_type": "stream",
     "text": [
      "root\n",
      " |-- Repo: string (nullable = true)\n",
      " |-- Language: string (nullable = true)\n",
      " |-- Comment: string (nullable = true)\n",
      " |-- Forks_Count: integer (nullable = true)\n",
      " |-- Stargazers_count: integer (nullable = true)\n",
      " |-- Open_issues_count: integer (nullable = true)\n",
      " |-- Date: timestamp (nullable = true)\n",
      "\n"
     ]
    }
   ],
   "source": [
    "# Load data and group it by Language\n",
    "df = sqlContext.read.format('com.databricks.spark.csv').options(header='true').load('data_april2020.csv', schema='Repo STRING, Language STRING, Comment STRING, Forks_Count INTEGER, Stargazers_count INTEGER, Open_issues_count INTEGER, Date TIMESTAMP')\n",
    "df.printSchema()\n",
    "\n",
    "df.createOrReplaceTempView(\"events\") # Create SQL table \"events\"\n",
    "\n",
    "df = df.groupBy(col(\"Repo\"))\n",
    "\n",
    "df = df.agg(avg(\"Forks_Count\").alias(\"Forks_Count\"), count(\"Repo\").alias(\"Count\"), avg(\"Stargazers_count\").alias(\"Average_Stargazers_count\"))\n",
    "\n",
    "df = df.sort(col(\"Count\").asc())"
   ]
  },
  {
   "cell_type": "code",
   "execution_count": 4,
   "metadata": {
    "ExecuteTime": {
     "end_time": "2021-05-06T00:12:58.579050Z",
     "start_time": "2021-05-06T00:12:18.671187Z"
    }
   },
   "outputs": [
    {
     "data": {
      "text/html": [
       "<div>\n",
       "<style scoped>\n",
       "    .dataframe tbody tr th:only-of-type {\n",
       "        vertical-align: middle;\n",
       "    }\n",
       "\n",
       "    .dataframe tbody tr th {\n",
       "        vertical-align: top;\n",
       "    }\n",
       "\n",
       "    .dataframe thead th {\n",
       "        text-align: right;\n",
       "    }\n",
       "</style>\n",
       "<table border=\"1\" class=\"dataframe\">\n",
       "  <thead>\n",
       "    <tr style=\"text-align: right;\">\n",
       "      <th></th>\n",
       "      <th>Repo</th>\n",
       "      <th>Forks_Count</th>\n",
       "      <th>Count</th>\n",
       "      <th>Average_Stargazers_count</th>\n",
       "    </tr>\n",
       "  </thead>\n",
       "  <tbody>\n",
       "    <tr>\n",
       "      <th>0</th>\n",
       "      <td>None</td>\n",
       "      <td>NaN</td>\n",
       "      <td>0</td>\n",
       "      <td>NaN</td>\n",
       "    </tr>\n",
       "    <tr>\n",
       "      <th>1</th>\n",
       "      <td>addBpmnElement = false;</td>\n",
       "      <td>NaN</td>\n",
       "      <td>1</td>\n",
       "      <td>NaN</td>\n",
       "    </tr>\n",
       "    <tr>\n",
       "      <th>2</th>\n",
       "      <td># + extraPathInfo - The part of the URL which ...</td>\n",
       "      <td>NaN</td>\n",
       "      <td>1</td>\n",
       "      <td>NaN</td>\n",
       "    </tr>\n",
       "    <tr>\n",
       "      <th>3</th>\n",
       "      <td>- {column_offset: 3 filter_name: F3 pupil: P3 ...</td>\n",
       "      <td>NaN</td>\n",
       "      <td>1</td>\n",
       "      <td>NaN</td>\n",
       "    </tr>\n",
       "    <tr>\n",
       "      <th>4</th>\n",
       "      <td>So I think the behavior that Pavel implemented...</td>\n",
       "      <td>NaN</td>\n",
       "      <td>1</td>\n",
       "      <td>NaN</td>\n",
       "    </tr>\n",
       "  </tbody>\n",
       "</table>\n",
       "</div>"
      ],
      "text/plain": [
       "                                                Repo  Forks_Count  Count  \\\n",
       "0                                               None          NaN      0   \n",
       "1                            addBpmnElement = false;          NaN      1   \n",
       "2  # + extraPathInfo - The part of the URL which ...          NaN      1   \n",
       "3  - {column_offset: 3 filter_name: F3 pupil: P3 ...          NaN      1   \n",
       "4  So I think the behavior that Pavel implemented...          NaN      1   \n",
       "\n",
       "   Average_Stargazers_count  \n",
       "0                       NaN  \n",
       "1                       NaN  \n",
       "2                       NaN  \n",
       "3                       NaN  \n",
       "4                       NaN  "
      ]
     },
     "execution_count": 4,
     "metadata": {},
     "output_type": "execute_result"
    }
   ],
   "source": [
    "# Convert to Pandas for getting the plot\n",
    "languages_grouped_df = df.toPandas().head(5)\n",
    "languages_grouped_df"
   ]
  },
  {
   "cell_type": "code",
   "execution_count": 5,
   "metadata": {
    "ExecuteTime": {
     "end_time": "2021-05-06T00:12:58.584135Z",
     "start_time": "2021-05-06T00:12:58.580668Z"
    },
    "scrolled": false
   },
   "outputs": [],
   "source": [
    "# # Draw a plot\n",
    "# cmap = plt.get_cmap('jet')\n",
    "# colors = cmap(np.linspace(0, 1.0, 5))\n",
    "\n",
    "# plt.rcParams[\"figure.figsize\"] = (10, 5)\n",
    "# plt.scatter(\n",
    "#     x = languages_grouped_df[\"Forks_Count\"],\n",
    "#     y = languages_grouped_df[\"Average_Stargazers_count\"],\n",
    "#     s = languages_grouped_df[\"Count\"]/8,\n",
    "#     alpha = 0.5,\n",
    "#     c = colors\n",
    "# )\n",
    "\n",
    "# # plt.title(\"Most popular languages by number of contributions\")\n",
    "# plt.xlabel(\"Forks\")\n",
    "# plt.ylabel(\"Average stargazers\")\n",
    "        \n",
    "# x,y = languages_grouped_df[\"Forks_Count\"], languages_grouped_df[\"Average_Stargazers_count\"]\n",
    "\n",
    "\n",
    "# #labels\n",
    "# for i, name in enumerate(languages_grouped_df[\"Language\"]):\n",
    "#     plt.annotate(name, (x[i], y[i]))\n",
    "#     print(name, (x[i], y[i]))\n",
    "    \n",
    "# plt.savefig('most_popular_languages.png')"
   ]
  },
  {
   "cell_type": "code",
   "execution_count": 6,
   "metadata": {
    "ExecuteTime": {
     "end_time": "2021-05-06T00:13:05.233583Z",
     "start_time": "2021-05-06T00:12:58.586013Z"
    }
   },
   "outputs": [
    {
     "name": "stdout",
     "output_type": "stream",
     "text": [
      "+--------------------+-----------+----------------+-----------------+\n",
      "|                Repo|Forks_Count|Stargazers_count|Open_issues_count|\n",
      "+--------------------+-----------+----------------+-----------------+\n",
      "|aws/aws-xray-sdk-...|          0|               0|                0|\n",
      "|     aws/aws-sdk-php|          0|               0|                0|\n",
      "|       google/qkeras|          0|               0|                0|\n",
      "|      aws/aws-sdk-js|          0|               0|                0|\n",
      "|    google/syzkaller|          0|               5|                0|\n",
      "|aws/aws-deep-lear...|          0|               0|                0|\n",
      "|          google/rrg|          0|               0|                0|\n",
      "|aws/aws-encryptio...|          0|               0|                0|\n",
      "|aws/aws-xray-sdk-...|          0|               0|                0|\n",
      "|       facebook/yoga|          0|               0|                0|\n",
      "|aws/aws-parallelc...|          0|               0|                0|\n",
      "|     google/cadvisor|          0|               3|               25|\n",
      "|  google/knative-gcp|          0|               0|               72|\n",
      "|google/applied-co...|          0|              34|                0|\n",
      "|     google/go-cloud|          0|               0|                0|\n",
      "|      facebook/folly|          0|               0|                0|\n",
      "|facebook/react-na...|          0|               0|                6|\n",
      "|google/go-contain...|          0|               0|                0|\n",
      "| google/neuroglancer|          0|               0|                0|\n",
      "|     google/or-tools|          0|               0|                0|\n",
      "+--------------------+-----------+----------------+-----------------+\n",
      "only showing top 20 rows\n",
      "\n"
     ]
    }
   ],
   "source": [
    "companies_df = spark.sql(\"SELECT Repo, sum(Forks_Count) as Forks_Count, sum(Stargazers_count) as Stargazers_count, sum(Open_issues_count) as Open_issues_count FROM events WHERE Repo LIKE '%aws/%'  OR Repo LIKE '%google/%' OR Repo LIKE '%facebook/%' GROUP BY Repo ORDER BY Forks_Count ASC\").dropna().show()"
   ]
  },
  {
   "cell_type": "code",
   "execution_count": 7,
   "metadata": {
    "ExecuteTime": {
     "end_time": "2021-05-06T00:13:05.635637Z",
     "start_time": "2021-05-06T00:13:05.236203Z"
    }
   },
   "outputs": [
    {
     "name": "stdout",
     "output_type": "stream",
     "text": [
      "+--------------------+-------------------------------------+----------+\n",
      "|                Repo|                              Comment|  Language|\n",
      "+--------------------+-------------------------------------+----------+\n",
      "|https://developer...|                                 null|      null|\n",
      "|When search on go...|                                 null|      null|\n",
      "|google/web-storie...|                 Why is `width=0` ...|JavaScript|\n",
      "|aws/amazon-chime-...|                 I chose types her...|TypeScript|\n",
      "|googleads/googlea...|                 @ericleich thanks...|      Java|\n",
      "|aws/amazon-chime-...|                 Good point will u...|TypeScript|\n",
      "|Schmavery/faceboo...|                 The use case that...|JavaScript|\n",
      "|amazonpay-labs/am...|                 ```updateButtonSt...|JavaScript|\n",
      "|amazonpay-labs/am...|                 ```'#updateChecko...|JavaScript|\n",
      "|amazonpay-labs/am...|こちら想定外エラーになると思うので...|JavaScript|\n",
      "|google/web-storie...|                 I don't really li...|JavaScript|\n",
      "|googleapis/google...|                 Per PEP8 please r...|    Python|\n",
      "|Schmavery/faceboo...|                 Alright. Sorry fo...|JavaScript|\n",
      "|private-google-ac...|                                 null|      null|\n",
      "|private-google-ac...|                                 null|      null|\n",
      "|private-google-ac...|                                 null|      null|\n",
      "|    facebook/rocksdb|                 - The \"value\" can...|       C++|\n",
      "|Text-based resour...|                                 null|      null|\n",
      "|- Click 'Img' to ...|                                 null|      null|\n",
      "|- Click **Img** t...|                                 null|      null|\n",
      "+--------------------+-------------------------------------+----------+\n",
      "only showing top 20 rows\n",
      "\n"
     ]
    }
   ],
   "source": [
    "pullrequest_df = spark.sql(\"SELECT Repo, Comment, Language FROM events WHERE Repo LIKE '%amazon%'  OR Repo LIKE '%google%' OR Repo LIKE '%facebook%'\").show()"
   ]
  },
  {
   "cell_type": "code",
   "execution_count": null,
   "metadata": {},
   "outputs": [],
   "source": []
  }
 ],
 "metadata": {
  "kernelspec": {
   "display_name": "Python 3",
   "language": "python",
   "name": "python3"
  },
  "language_info": {
   "codemirror_mode": {
    "name": "ipython",
    "version": 3
   },
   "file_extension": ".py",
   "mimetype": "text/x-python",
   "name": "python",
   "nbconvert_exporter": "python",
   "pygments_lexer": "ipython3",
   "version": "3.6.7"
  },
  "toc": {
   "base_numbering": 1,
   "nav_menu": {},
   "number_sections": true,
   "sideBar": true,
   "skip_h1_title": false,
   "title_cell": "Table of Contents",
   "title_sidebar": "Contents",
   "toc_cell": false,
   "toc_position": {},
   "toc_section_display": true,
   "toc_window_display": false
  }
 },
 "nbformat": 4,
 "nbformat_minor": 2
}
